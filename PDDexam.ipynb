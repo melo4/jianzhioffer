{
 "cells": [
  {
   "cell_type": "markdown",
   "metadata": {},
   "source": [
    "## 拼多多学霸批笔试题0728"
   ]
  },
  {
   "cell_type": "markdown",
   "metadata": {},
   "source": [
    "#### 1.几乎严格排序\n",
    "给定两个数组A和B，其中数组A是几乎严格升序排列的，几乎的定义是只需改变其中一个数，即可满足完全升序排列。你的任务是从A中找到这个数组，并从数组B中选取一个数将其代替，使得A是严格升序排列的，请找出B中满足要求的最大数字，并输出有序数组，如不存在则输出NO。"
   ]
  },
  {
   "cell_type": "markdown",
   "metadata": {},
   "source": [
    "思路：\n",
    "例如A=[1,3,8,7,10]，违反严格升序的数字有两个，可以是8也可以是7，代码的基本思路是从A中找到这两个数组，并且得到替换数字的两个区间，之后再从大到小遍历B，看是否有落在上述两个区间之一的数字。"
   ]
  },
  {
   "cell_type": "code",
   "execution_count": 3,
   "metadata": {},
   "outputs": [],
   "source": [
    "def func(A, B):\n",
    "    index = 0\n",
    "    for i in range(len(A) - 1):\n",
    "        if A[i] >= A[i+1]:\n",
    "            index = i\n",
    "    if index == 0:\n",
    "        left1 = min(A) - 1\n",
    "    else:\n",
    "        left1 = A[index-1]\n",
    "    right1 = A[index] + 1\n",
    "    left2 = A[index]\n",
    "    if index == len(A) - 2:\n",
    "        right2 = max(A) + 1\n",
    "    else:\n",
    "        right2 = A[index+2]\n",
    "    B.sort(reverse=True)\n",
    "    for i in range(len(B)):\n",
    "        if left1 < B[i] and B[i] < right1:\n",
    "            A[index] = B[i]\n",
    "            return A\n",
    "        elif left2 < B[i] and B[i] < right2:\n",
    "            A[index+1] = B[i]\n",
    "            return A\n",
    "    return 'NO'\n",
    "    "
   ]
  },
  {
   "cell_type": "markdown",
   "metadata": {},
   "source": [
    "#### 2.首尾相连的一组字符串\n",
    "给定一个字符串数组（字符串长度和数组长度均大于1且小于1024），所有字符均为大写字母。请问，给定的字符串数组是否能通过更换数组中元素的顺序，从而首尾相连，形成一个环。"
   ]
  },
  {
   "cell_type": "markdown",
   "metadata": {},
   "source": [
    "看到牛客上po了一些回答，记录所有字符串头尾字母的出现次数，如果是全部出现偶数次即可形成环。这种思路其实是有问题的，例如[\"AA\",\"BB\"]，虽然字母A和B均出现偶数次，但是首尾不相等"
   ]
  },
  {
   "cell_type": "code",
   "execution_count": 39,
   "metadata": {},
   "outputs": [],
   "source": [
    "# DFS做法：固定了开头,后续字符串从list中选择对每个字符串作为头部，测试能否返回1\n",
    "global res # 记录结果\n",
    "res = []\n",
    "def judge(s_arr):\n",
    "    for i in range(len(s_arr)): # 每个字符串都可以作为开头， 逐一判断\n",
    "        head = s_arr[i][0] # 记录开头\n",
    "        res.append(s_arr[i])\n",
    "        newlist = s_arr.copy() \n",
    "        newlist.remove(s_arr[i])#每次搜索都需要新建一个搜索环境\n",
    "        if dfs(s_arr[i], newlist) and res[-len(s_arr)][0] == res[-1][-1]: # 判断首尾是否能连接成环\n",
    "            #print(res)\n",
    "            return 'YES'\n",
    "        \n",
    "    return 'NO'\n",
    "def dfs(s, s_list):\n",
    "    if len(s_list) == 0:\n",
    "        return True   # list为空， 表明所有字符串已被使用， 没有未拼接的字符串了\n",
    "    tail = s[-1]\n",
    "    global res\n",
    "    for i in range(len(s_list)):\n",
    "        if s_list[i][0] == tail:\n",
    "            res.append(s_list[i])\n",
    "            newlist = s_list.copy()\n",
    "            newlist.remove(s_list[i])\n",
    "            if dfs(s_list[i], newlist):\n",
    "                return True\n",
    "    return False\n",
    "    "
   ]
  },
  {
   "cell_type": "markdown",
   "metadata": {},
   "source": [
    "#### 3.多任务的执行顺序\n",
    "现在一共有N个待执行的任务，每个任务需要Pi的时间完成执行。同时任务之间可能会有一些依赖关系，比如任务1可能依赖任务2和任务3，那么任务1必须等任务2和任务3执行完成后才能开始执行。为了最小化任务的平均返回时长，请安排所有任务的执行顺序。假设在零时刻，所有N个任务已到达系统。"
   ]
  },
  {
   "cell_type": "markdown",
   "metadata": {},
   "source": [
    "本题应该是考察图的拓扑序，即所有的任务根据依赖关系可以画出一张依赖图，每轮迭代执行一批入度为0的任务，为了满足平均返回时长最小的要求，入度为0的任务再根据任务时长短的优先执行的贪心策略执行，可以使用优先队列实现。\n"
   ]
  },
  {
   "cell_type": "code",
   "execution_count": 2,
   "metadata": {},
   "outputs": [],
   "source": [
    "# input:\n",
    "# n m\n",
    "# P0 P1 ... Pn-1\n",
    "# m个依赖"
   ]
  },
  {
   "cell_type": "code",
   "execution_count": 3,
   "metadata": {},
   "outputs": [
    {
     "name": "stdout",
     "output_type": "stream",
     "text": [
      "5 6\n",
      "1 2 1 1 1\n",
      "1 2\n",
      "1 3\n",
      "1 4\n",
      "2 5\n",
      "3 5\n",
      "4 5\n",
      "1 3 4 2 5 "
     ]
    }
   ],
   "source": [
    "from collections import defaultdict\n",
    "import heapq\n",
    "class Node(object):\n",
    "    def __init__(self,time,l,index):\n",
    "        self.time = time\n",
    "        self.l = l\n",
    "        self.index = index\n",
    "    def __lt__(self, other):\n",
    "        if self.time < other.time:\n",
    "            return True\n",
    "        elif self.time  == other.time:\n",
    "            return self.index < other.index\n",
    "        else:\n",
    "            return False\n",
    "N,M = map(int, input().split())\n",
    "times = list(map(int, input().split()))\n",
    "d = defaultdict(set)\n",
    "l = []\n",
    "for i in range(M):\n",
    "    tmp = list(map(int, input().split()))\n",
    "    for e in tmp[:-1]:\n",
    "        d[tmp[-1]].add(e)\n",
    " \n",
    " \n",
    "for i in range(N):\n",
    "    #print(times[i], d[i+1],i+1)\n",
    "    heapq.heappush(l,Node(times[i], d[i+1], i+1))\n",
    " \n",
    "res = []\n",
    "while len(l) > 0:\n",
    "    tmp = []\n",
    "    node = None\n",
    "    while len(l) > 0:\n",
    "        node = heapq.heappop(l)\n",
    "        if len(node.l) > 0:\n",
    "            tmp.append(node)\n",
    "        else:\n",
    "            res.append(node.index)\n",
    "            break\n",
    "    for e in tmp:\n",
    "        heapq.heappush(l, e)\n",
    "    if node != None:\n",
    "        for i in range(len(l)):\n",
    "            if node.index in l[i].l:\n",
    "                l[i].l.remove(node.index)\n",
    "for e in res:\n",
    "    print(e, end=\" \")"
   ]
  },
  {
   "cell_type": "markdown",
   "metadata": {},
   "source": [
    "#### 搭积木\n",
    "有N个长方体积木， 每个积木的高都是1，长宽都为Li，重量为Wi。现在想要用这些积木搭一个高高的金字塔，每一层由且仅由一块积木组成，同时每一层积木的边长都比下方的积木小，每块积木智能承受自身重量的7倍重量，请计算最高可以搭一个多高的金字塔？"
   ]
  },
  {
   "cell_type": "markdown",
   "metadata": {},
   "source": [
    "解题思路：\n",
    "最重要的就是选择哪一块作为积木的底，这个问题可以采用dp思想  \n",
    "提前对积木按照由小到大的顺序排序  \n",
    "状态： dp[i][j]表示第i个积木为底时，构造高度为j时所用的积木的最小重量  \n",
    "状态转移方差：dp[i][j] = min(dp[i][j], dp[k][j-1]+wi)  \n",
    "（前提dp[k][j-1]状态合法，且第k个积木尺寸小于第i个积木）  "
   ]
  },
  {
   "cell_type": "code",
   "execution_count": 4,
   "metadata": {},
   "outputs": [
    {
     "name": "stdout",
     "output_type": "stream",
     "text": [
      "10\n",
      "1 2 3 4 5 6 7 8 9 10\n",
      "1 1 1 1 1 1 1 1 1 10\n",
      "9\n"
     ]
    }
   ],
   "source": [
    "if __name__ == \"__main__\":\n",
    "    N = int(input())\n",
    "    L = list(map(int, input().split()))\n",
    "    W = list(map(int, input().split()))\n",
    "    Pair = []\n",
    "    for i in range(N):\n",
    "        Pair.append([L[i], W[i]])\n",
    "    Pair.sort(key=lambda x:x[0])\n",
    "    Pair.insert(0, [0, 0])\n",
    "    # dp[i][j]表示第i个积木为底时，构造高度为j时所用的积木的最小重量\n",
    "    dp = [[float(\"inf\") for _ in range(N + 1)] for _ in range(N + 1)]\n",
    "    dp[0][0] = 0\n",
    "    ans = 0\n",
    "    for i in range(1, N + 1):\n",
    "        # 以第i块积木为底时\n",
    "        for k in range(i):\n",
    "            if Pair[k][0] < Pair[i][0]:  # 长度满足条件\n",
    "                for j in range(k+1):\n",
    "                    # 重量满足条件\n",
    "                    if dp[k][j] != float(\"inf\") and dp[k][j] <= Pair[i][1]*7:\n",
    "                        dp[i][j+1] = min(dp[i][j+1], dp[k][j]+Pair[i][1])\n",
    "                        ans = max(ans, j+1)\n",
    "    print(ans)"
   ]
  },
  {
   "cell_type": "code",
   "execution_count": null,
   "metadata": {},
   "outputs": [],
   "source": []
  }
 ],
 "metadata": {
  "kernelspec": {
   "display_name": "Python 3",
   "language": "python",
   "name": "python3"
  },
  "language_info": {
   "codemirror_mode": {
    "name": "ipython",
    "version": 3
   },
   "file_extension": ".py",
   "mimetype": "text/x-python",
   "name": "python",
   "nbconvert_exporter": "python",
   "pygments_lexer": "ipython3",
   "version": "3.7.1"
  }
 },
 "nbformat": 4,
 "nbformat_minor": 2
}
